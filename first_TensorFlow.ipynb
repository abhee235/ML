{
  "nbformat": 4,
  "nbformat_minor": 0,
  "metadata": {
    "colab": {
      "name": "first_TensorFlow.ipynb",
      "version": "0.3.2",
      "provenance": [],
      "include_colab_link": true
    },
    "kernelspec": {
      "name": "python3",
      "display_name": "Python 3"
    }
  },
  "cells": [
    {
      "cell_type": "markdown",
      "metadata": {
        "id": "view-in-github",
        "colab_type": "text"
      },
      "source": [
        "<a href=\"https://colab.research.google.com/github/abhee235/ML/blob/master/first_TensorFlow.ipynb\" target=\"_parent\"><img src=\"https://colab.research.google.com/assets/colab-badge.svg\" alt=\"Open In Colab\"/></a>"
      ]
    },
    {
      "metadata": {
        "id": "0MHABxQ2udbw",
        "colab_type": "code",
        "colab": {}
      },
      "cell_type": "code",
      "source": [
        "from __future__ import print_function\n",
        "import math\n",
        "import numpy as np\n",
        "import matplotlib.pyplot as plt\n",
        "import tensorflow as tf\n",
        "import pandas as pd\n",
        "from tensorflow.python.data import Dataset\n",
        "from sklearn import metrics\n",
        "\n",
        "tf.logging.set_verbosity(tf.logging.ERROR)\n",
        "pd.options.display.max_rows = 10\n",
        "pd.options.display.float_format = '{:.1f}' .format"
      ],
      "execution_count": 0,
      "outputs": []
    },
    {
      "metadata": {
        "id": "772ha4xku4cP",
        "colab_type": "code",
        "colab": {}
      },
      "cell_type": "code",
      "source": [
        "chdf = pd.read_csv(\"https://download.mlcc.google.com/mledu-datasets/california_housing_train.csv\", sep=\",\")\n",
        "\n",
        "chdf = chdf.reindex(np.random.permutation(chdf.index))\n",
        "chdf['median_house_value'] /= 1000.0\n",
        "chdf"
      ],
      "execution_count": 0,
      "outputs": []
    },
    {
      "metadata": {
        "id": "ZHiwRY8pv0Q7",
        "colab_type": "code",
        "colab": {}
      },
      "cell_type": "code",
      "source": [
        "my_feature = chdf[[\"total_rooms\"]]\n",
        "feature_columns = [tf.feature_column.numeric_column('total_rooms')]\n",
        "feature_columns\n",
        "\n",
        "#tfeatures = {key: np.array(value) for key,value in dict(my_feature).items()}\n",
        "#tfeatures"
      ],
      "execution_count": 0,
      "outputs": []
    },
    {
      "metadata": {
        "id": "JYoz2M0f008h",
        "colab_type": "code",
        "colab": {}
      },
      "cell_type": "code",
      "source": [
        "target = chdf[\"median_house_value\"]"
      ],
      "execution_count": 0,
      "outputs": []
    },
    {
      "metadata": {
        "id": "ziX_Io9D0GEB",
        "colab_type": "code",
        "colab": {}
      },
      "cell_type": "code",
      "source": [
        "#configure optimizer\n",
        "my_optimizer = tf.train.GradientDescentOptimizer(learning_rate = 0.00001)\n",
        "my_optimizer = tf.contrib.estimator.clip_gradients_by_norm(my_optimizer, 5.0)\n",
        "\n",
        "#regressor\n",
        "linear_regressor = tf.estimator.LinearRegressor(\n",
        "    feature_columns = feature_columns,\n",
        "    optimizer = my_optimizer\n",
        ")"
      ],
      "execution_count": 0,
      "outputs": []
    },
    {
      "metadata": {
        "id": "UXQfd9yRujiO",
        "colab_type": "code",
        "colab": {}
      },
      "cell_type": "code",
      "source": [
        "def my_input_fn(features, targets, batch_size = 1, shuffle = True, num_epochs = None):\n",
        "  \n",
        "  \"\"\"Train linear Regression model for one feature\"\"\"\n",
        "  \n",
        "  #convert panda dataframe to dict of np arrays\n",
        "  features = {key: np.array(value) for key,value in dict(features).items()}\n",
        "  \n",
        "  ds = Dataset.from_tensor_slices((features, targets))\n",
        "  ds = ds.batch(batch_size).repeat(num_epochs)\n",
        "  \n",
        "  if shuffle == True:\n",
        "    ds.shuffle(buffer_size = 10000)\n",
        "    \n",
        "  #Return the data\n",
        "  features, labels = ds.make_one_shot_iterator().get_next()\n",
        "  return features, labels"
      ],
      "execution_count": 0,
      "outputs": []
    },
    {
      "metadata": {
        "id": "K71yJXgA9LGB",
        "colab_type": "code",
        "colab": {
          "base_uri": "https://localhost:8080/",
          "height": 34
        },
        "outputId": "8f45dc1f-173f-4a65-90e4-6c011c3070a7"
      },
      "cell_type": "code",
      "source": [
        "\n",
        "_ = linear_regressor.train(\n",
        "    input_fn = lambda : my_input_fn(my_feature, target),\n",
        "    steps=30\n",
        ")\n",
        "\n",
        "prediction_input_fn = lambda : my_input_fn(my_feature, target, shuffle= False, num_epochs =1)\n",
        "predictions = linear_regressor.predict(input_fn = prediction_input_fn)\n",
        "predictions = np.array([item['predictions'][0] for item in predictions])\n",
        "\n",
        "\n",
        "#Calculate RMS of this model\n",
        "MS_error = metrics.mean_squared_error(predictions, target)\n",
        "RMS_error = math.sqrt(MS_error)\n",
        "\n",
        "#print(\"Mean Squared Error (on training data): %0.3f\" %MS_error)\n",
        "print(\"Root Mean Squared Error (on training data): %0.3f\" %RMS_error)"
      ],
      "execution_count": 104,
      "outputs": [
        {
          "output_type": "stream",
          "text": [
            "Root Mean Squared Error (on training data): 186.301\n"
          ],
          "name": "stdout"
        }
      ]
    },
    {
      "metadata": {
        "id": "tK-c9IQi9Ltx",
        "colab_type": "code",
        "colab": {}
      },
      "cell_type": "code",
      "source": [
        ""
      ],
      "execution_count": 0,
      "outputs": []
    },
    {
      "metadata": {
        "id": "RVybo2T3V-39",
        "colab_type": "code",
        "colab": {}
      },
      "cell_type": "code",
      "source": [
        "#visualise RMS\n",
        "#chdf.describe\n",
        "house_Min_Value = chdf[\"median_house_value\"].min()\n",
        "house_max_value = chdf[\"median_house_value\"].max()\n",
        "\n",
        "diff = house_max_value - house_Min_Value\n",
        "print(diff)\n",
        "print(\"Mean Squared Error (on training data): %0.3f\" %MS_error)\n",
        "print(\"Root Mean Squared Error (on training data): %0.3f\" %RMS_error)"
      ],
      "execution_count": 0,
      "outputs": []
    },
    {
      "metadata": {
        "id": "_nWoCumbhZ3h",
        "colab_type": "code",
        "colab": {}
      },
      "cell_type": "code",
      "source": [
        "caliberation_data = pd.DataFrame()\n",
        "caliberation_data[\"Prediction\"] = pd.Series(predictions)\n",
        "caliberation_data[\"target\"] = pd.Series(target)\n",
        "\n",
        "caliberation_data.describe()"
      ],
      "execution_count": 0,
      "outputs": []
    },
    {
      "metadata": {
        "id": "AhX-LkYejGTR",
        "colab_type": "code",
        "colab": {
          "base_uri": "https://localhost:8080/",
          "height": 361
        },
        "outputId": "63816356-58f7-4ab4-8cbd-7194462a45e3"
      },
      "cell_type": "code",
      "source": [
        "sample = chdf.sample(n=300)\n",
        "x_0 = sample[\"total_rooms\"].min()\n",
        "x_1 = sample[\"total_rooms\"].max()\n",
        "\n",
        "weight = linear_regressor.get_variable_value('linear/linear_model/total_rooms/weights')[0]\n",
        "bias = linear_regressor.get_variable_value('linear/linear_model/bias_weights')\n",
        "bias\n",
        "\n",
        "#predicted median house value\n",
        "y_0 = weight * x_0 + bias\n",
        "y_1 = weight * x_1 + bias\n",
        "\n",
        "#plot the graph to analysise the regression output \n",
        "plt.plot([x_0,x_1], [y_0, y_1], c='r')\n",
        "\n",
        "plt.xlabel(\"total_rooms\")\n",
        "plt.ylabel(\"median_house_value\")\n",
        "\n",
        "plt.scatter(sample[\"total_rooms\"],sample[\"median_house_value\"])\n",
        "plt.show()\n",
        "\n"
      ],
      "execution_count": 95,
      "outputs": [
        {
          "output_type": "display_data",
          "data": {
            "image/png": "[encoded data removed]",
            "text/plain": [
              "<matplotlib.figure.Figure at 0x7ff18ace4860>"
            ]
          },
          "metadata": {
            "tags": []
          }
        }
      ]
    },
    {
      "metadata": {
        "id": "FgjPnIj-jGWB",
        "colab_type": "code",
        "colab": {}
      },
      "cell_type": "code",
      "source": [
        ""
      ],
      "execution_count": 0,
      "outputs": []
    }
  ]
}